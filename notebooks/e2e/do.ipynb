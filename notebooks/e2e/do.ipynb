{
 "cells": [
  {
   "cell_type": "code",
   "execution_count": 1,
   "id": "d98a787a",
   "metadata": {},
   "outputs": [],
   "source": [
    "import syft_client as sc"
   ]
  },
  {
   "cell_type": "code",
   "execution_count": null,
   "id": "5b0cc93b",
   "metadata": {},
   "outputs": [],
   "source": [
    "client_email = input(\"Enter your email: \")\n",
    "do_client = sc.login(client_email, verbose=False)"
   ]
  },
  {
   "cell_type": "code",
   "execution_count": 3,
   "id": "c20cb4d9",
   "metadata": {},
   "outputs": [
    {
     "data": {
      "text/html": [
       "\n",
       "            <style>\n",
       "\n",
       "                .syftjob-empty {\n",
       "                    padding: 30px 20px;\n",
       "                    text-align: center;\n",
       "                    border-radius: 8px;\n",
       "                    background: linear-gradient(135deg, #f8c073 0%, #f79763 50%, #cc677b 100%);\n",
       "                    border: 1px solid rgba(248,192,115,0.2);\n",
       "                    color: white;\n",
       "                }\n",
       "\n",
       "\n",
       "                .syftjob-empty h3 {\n",
       "                    margin: 0 0 12px 0;\n",
       "                    font-size: 18px;\n",
       "                    color: white;\n",
       "                    font-weight: 600;\n",
       "                }\n",
       "\n",
       "                .syftjob-empty p {\n",
       "                    margin: 0;\n",
       "                    color: rgba(255,255,255,0.9);\n",
       "                    font-size: 16px;\n",
       "                    opacity: 0.95;\n",
       "                }\n",
       "\n",
       "                .syftjob-empty-icon {\n",
       "                    font-size: 24px;\n",
       "                    margin-bottom: 12px;\n",
       "                    display: block;\n",
       "                }\n",
       "\n",
       "                /* Dark theme */\n",
       "                @media (prefers-color-scheme: dark) {\n",
       "                    .syftjob-empty {\n",
       "                        background: linear-gradient(135deg, #2d3748 0%, #4a5568 100%);\n",
       "                        border-color: rgba(74,85,104,0.2);\n",
       "                    }\n",
       "                    .syftjob-empty h3 {\n",
       "                        color: white;\n",
       "                    }\n",
       "                    .syftjob-empty p {\n",
       "                        color: rgba(255,255,255,0.95);\n",
       "                        opacity: 0.95;\n",
       "                    }\n",
       "                }\n",
       "\n",
       "                /* Jupyter dark theme detection */\n",
       "                .jp-RenderedHTMLCommon[data-jp-theme-light=\"false\"] .syftjob-empty,\n",
       "                body[data-jp-theme-light=\"false\"] .syftjob-empty {\n",
       "                    background: linear-gradient(135deg, #2d3748 0%, #4a5568 100%);\n",
       "                    border-color: rgba(74,85,104,0.2);\n",
       "                }\n",
       "                .jp-RenderedHTMLCommon[data-jp-theme-light=\"false\"] .syftjob-empty h3,\n",
       "                body[data-jp-theme-light=\"false\"] .syftjob-empty h3 {\n",
       "                    color: white;\n",
       "                }\n",
       "                .jp-RenderedHTMLCommon[data-jp-theme-light=\"false\"] .syftjob-empty p,\n",
       "                body[data-jp-theme-light=\"false\"] .syftjob-empty p {\n",
       "                    color: rgba(255,255,255,0.95);\n",
       "                    opacity: 0.95;\n",
       "                }\n",
       "            </style>\n",
       "            <div class=\"syftjob-empty\">\n",
       "                <span class=\"syftjob-empty-icon\">📭</span>\n",
       "                <h3>No jobs found</h3>\n",
       "                <p>Submit jobs to see them here</p>\n",
       "            </div>\n",
       "            "
      ],
      "text/plain": [
       "JobsList(0 jobs)"
      ]
     },
     "execution_count": 3,
     "metadata": {},
     "output_type": "execute_result"
    }
   ],
   "source": [
    "do_client.jobs"
   ]
  },
  {
   "cell_type": "code",
   "execution_count": 4,
   "id": "75b04f9b",
   "metadata": {},
   "outputs": [
    {
     "data": {
      "text/plain": [
       "12"
      ]
     },
     "execution_count": 4,
     "metadata": {},
     "output_type": "execute_result"
    }
   ],
   "source": [
    "import tempfile\n",
    "from pathlib import Path\n",
    "\n",
    "# Create a temporary directory\n",
    "tmpdir = tempfile.TemporaryDirectory()\n",
    "\n",
    "# Create a Path object for results.txt inside the temp dir\n",
    "file_path = Path(tmpdir.name) / \"results.txt\"\n",
    "\n",
    "# Write \"Final result\" into the file\n",
    "file_path.write_text(\"Final result\")"
   ]
  },
  {
   "cell_type": "code",
   "execution_count": null,
   "id": "f358f9f5",
   "metadata": {},
   "outputs": [
    {
     "data": {
      "text/plain": [
       "PosixPath('/var/folders/4w/9cvj7hqd4_386stwby6n2pcw0000gn/T/tmpeqrq63oe/results.txt')"
      ]
     },
     "execution_count": 9,
     "metadata": {},
     "output_type": "execute_result"
    }
   ],
   "source": [
    "do_client.jobs[-1].accept_by_depositing_result(file_path)"
   ]
  },
  {
   "cell_type": "code",
   "execution_count": null,
   "id": "6d5ca379",
   "metadata": {},
   "outputs": [],
   "source": []
  }
 ],
 "metadata": {
  "kernelspec": {
   "display_name": "syft-job",
   "language": "python",
   "name": "python3"
  },
  "language_info": {
   "codemirror_mode": {
    "name": "ipython",
    "version": 3
   },
   "file_extension": ".py",
   "mimetype": "text/x-python",
   "name": "python",
   "nbconvert_exporter": "python",
   "pygments_lexer": "ipython3",
   "version": "3.12.8"
  }
 },
 "nbformat": 4,
 "nbformat_minor": 5
}
