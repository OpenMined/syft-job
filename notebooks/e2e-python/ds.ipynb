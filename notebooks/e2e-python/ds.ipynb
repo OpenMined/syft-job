{
 "cells": [
  {
   "cell_type": "code",
   "execution_count": null,
   "id": "d7f4d745",
   "metadata": {},
   "outputs": [],
   "source": [
    "import syft_client as sc\n",
    "from pathlib import Path"
   ]
  },
  {
   "cell_type": "code",
   "execution_count": null,
   "id": "10e38827",
   "metadata": {},
   "outputs": [],
   "source": [
    "client_email = input(\"Enter your email: \")\n",
    "ds_client = sc.login(client_email, verbose=False)"
   ]
  },
  {
   "cell_type": "code",
   "execution_count": null,
   "id": "dd95a529",
   "metadata": {},
   "outputs": [],
   "source": [
    "# TODO: functionality yet to be added\n",
    "# ds_client.add_friend(input(\"Enter Friend email:    \"))\n",
    "# ds_client.friends"
   ]
  },
  {
   "cell_type": "markdown",
   "id": "e4d9c2b2",
   "metadata": {},
   "source": [
    "### Propose Analysis"
   ]
  },
  {
   "cell_type": "code",
   "execution_count": null,
   "id": "13528160",
   "metadata": {},
   "outputs": [],
   "source": [
    "code_path = Path(\".\") / \"code\"\n",
    "code_path.mkdir(exist_ok=True)\n",
    "\n",
    "code_file_name = \"main.py\"\n",
    "code_file_path = code_path / code_file_name"
   ]
  },
  {
   "cell_type": "code",
   "execution_count": null,
   "id": "f3f23b77",
   "metadata": {},
   "outputs": [],
   "source": [
    "%%writefile {code_file_path}\n",
    "\n",
    "print(\"Hello World\")"
   ]
  },
  {
   "cell_type": "code",
   "execution_count": null,
   "id": "c1474445",
   "metadata": {},
   "outputs": [],
   "source": [
    "from uuid import uuid4\n",
    "\n",
    "# Generate unique job ID and name\n",
    "RANDOM_ID = str(uuid4())[0:8]\n",
    "JOB_NAME = f\"Test Job - {RANDOM_ID}\""
   ]
  },
  {
   "cell_type": "code",
   "execution_count": null,
   "id": "9ec88ffe",
   "metadata": {},
   "outputs": [],
   "source": [
    "do_email = input(\"Enter email of the Data Owner: \")"
   ]
  },
  {
   "cell_type": "code",
   "execution_count": null,
   "id": "8fba75f4",
   "metadata": {},
   "outputs": [],
   "source": [
    "import syft_job as sj\n",
    "\n",
    "do_client = sj.get_client(ds_client.folder, do_email)"
   ]
  },
  {
   "cell_type": "code",
   "execution_count": null,
   "id": "ab197d6c",
   "metadata": {},
   "outputs": [],
   "source": [
    "do_client.submit_python_job(\n",
    "    user=do_email,\n",
    "    job_name=JOB_NAME,\n",
    "    code_path=code_path,\n",
    "    entry_point=code_file_name,\n",
    ")"
   ]
  },
  {
   "cell_type": "markdown",
   "id": "adbbb811",
   "metadata": {},
   "source": [
    "## Switch to DO Notebook"
   ]
  },
  {
   "cell_type": "code",
   "execution_count": null,
   "id": "18ecac62",
   "metadata": {},
   "outputs": [],
   "source": [
    "do_client.jobs"
   ]
  },
  {
   "cell_type": "code",
   "execution_count": null,
   "id": "f225346f",
   "metadata": {},
   "outputs": [],
   "source": [
    "do_client.jobs[-1]"
   ]
  },
  {
   "cell_type": "code",
   "execution_count": null,
   "id": "32de5290",
   "metadata": {},
   "outputs": [],
   "source": [
    "do_client.jobs[-1].stdout"
   ]
  },
  {
   "cell_type": "code",
   "execution_count": null,
   "id": "6a586ee1",
   "metadata": {},
   "outputs": [],
   "source": [
    "do_client.jobs[-1].output_paths"
   ]
  },
  {
   "cell_type": "code",
   "execution_count": null,
   "id": "2aa8c151",
   "metadata": {},
   "outputs": [],
   "source": []
  }
 ],
 "metadata": {
  "kernelspec": {
   "display_name": "syft-job",
   "language": "python",
   "name": "python3"
  },
  "language_info": {
   "codemirror_mode": {
    "name": "ipython",
    "version": 3
   },
   "file_extension": ".py",
   "mimetype": "text/x-python",
   "name": "python",
   "nbconvert_exporter": "python",
   "pygments_lexer": "ipython3",
   "version": "3.12.8"
  }
 },
 "nbformat": 4,
 "nbformat_minor": 5
}
