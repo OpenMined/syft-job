{
 "cells": [
  {
   "cell_type": "code",
   "execution_count": null,
   "id": "00ecdda1",
   "metadata": {},
   "outputs": [],
   "source": [
    "import syft_job as sj\n",
    "import syft_client as sc"
   ]
  },
  {
   "cell_type": "code",
   "execution_count": null,
   "id": "2cab51f5",
   "metadata": {},
   "outputs": [],
   "source": [
    "from syft_core import Client"
   ]
  },
  {
   "cell_type": "code",
   "execution_count": null,
   "id": "4cb50f77",
   "metadata": {},
   "outputs": [],
   "source": [
    "path = Client.load()"
   ]
  },
  {
   "cell_type": "code",
   "execution_count": null,
   "id": "425413d6",
   "metadata": {},
   "outputs": [],
   "source": [
    "job_client = sj.get_client(config_path=path.config_path)"
   ]
  },
  {
   "cell_type": "code",
   "execution_count": null,
   "id": "2589dfdd",
   "metadata": {},
   "outputs": [],
   "source": [
    "path.config_path"
   ]
  },
  {
   "cell_type": "code",
   "execution_count": null,
   "id": "6a46f343",
   "metadata": {},
   "outputs": [],
   "source": [
    "print(job_client.jobs)"
   ]
  },
  {
   "cell_type": "code",
   "execution_count": null,
   "id": "2a9fafa9",
   "metadata": {},
   "outputs": [],
   "source": [
    "job_client.jobs[0].accept_by_depositing_result(file_path=\"../result.txt\")"
   ]
  },
  {
   "cell_type": "code",
   "execution_count": null,
   "id": "11c196eb",
   "metadata": {},
   "outputs": [],
   "source": [
    "print(job_client.jobs)"
   ]
  },
  {
   "cell_type": "code",
   "execution_count": null,
   "id": "cf3195a6",
   "metadata": {},
   "outputs": [],
   "source": [
    "job = job_client.submit_bash_job(\n",
    "      user=\"rasswanth@openmined.org\",\n",
    "      job_name=\"my_job\",\n",
    "      script=\"echo Hello World\"\n",
    "  )"
   ]
  },
  {
   "cell_type": "code",
   "execution_count": null,
   "id": "6d5d5965",
   "metadata": {},
   "outputs": [],
   "source": []
  }
 ],
 "metadata": {
  "kernelspec": {
   "display_name": "syft-job",
   "language": "python",
   "name": "python3"
  },
  "language_info": {
   "codemirror_mode": {
    "name": "ipython",
    "version": 3
   },
   "file_extension": ".py",
   "mimetype": "text/x-python",
   "name": "python",
   "nbconvert_exporter": "python",
   "pygments_lexer": "ipython3",
   "version": "3.12.8"
  }
 },
 "nbformat": 4,
 "nbformat_minor": 5
}
